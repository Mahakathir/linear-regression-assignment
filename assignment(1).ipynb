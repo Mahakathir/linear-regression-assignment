{
 "cells": [
  {
   "cell_type": "code",
   "execution_count": 3,
   "id": "f4c23761",
   "metadata": {},
   "outputs": [],
   "source": [
    "import pandas as p\n",
    "import numpy as n\n",
    "import sklearn as s"
   ]
  },
  {
   "cell_type": "code",
   "execution_count": 41,
   "id": "8914e41a",
   "metadata": {},
   "outputs": [],
   "source": [
    "dataset=p.read_csv(\"cof.csv\")"
   ]
  },
  {
   "cell_type": "code",
   "execution_count": 42,
   "id": "d8b92dca",
   "metadata": {
    "scrolled": false
   },
   "outputs": [
    {
     "data": {
      "text/html": [
       "<div>\n",
       "<style scoped>\n",
       "    .dataframe tbody tr th:only-of-type {\n",
       "        vertical-align: middle;\n",
       "    }\n",
       "\n",
       "    .dataframe tbody tr th {\n",
       "        vertical-align: top;\n",
       "    }\n",
       "\n",
       "    .dataframe thead th {\n",
       "        text-align: right;\n",
       "    }\n",
       "</style>\n",
       "<table border=\"1\" class=\"dataframe\">\n",
       "  <thead>\n",
       "    <tr style=\"text-align: right;\">\n",
       "      <th></th>\n",
       "      <th>Area Code</th>\n",
       "      <th>Cogs</th>\n",
       "      <th>DifferenceBetweenActualandTargetProfit</th>\n",
       "      <th>Date</th>\n",
       "      <th>Inventory Margin</th>\n",
       "      <th>Margin</th>\n",
       "      <th>Market_size</th>\n",
       "      <th>Market</th>\n",
       "      <th>Marketing</th>\n",
       "      <th>Product_line</th>\n",
       "      <th>...</th>\n",
       "      <th>Product</th>\n",
       "      <th>Profit</th>\n",
       "      <th>Sales</th>\n",
       "      <th>State</th>\n",
       "      <th>Target_cogs</th>\n",
       "      <th>Target_margin</th>\n",
       "      <th>Target_profit</th>\n",
       "      <th>Target_sales</th>\n",
       "      <th>Total_expenses</th>\n",
       "      <th>Type</th>\n",
       "    </tr>\n",
       "  </thead>\n",
       "  <tbody>\n",
       "    <tr>\n",
       "      <th>0</th>\n",
       "      <td>303</td>\n",
       "      <td>51</td>\n",
       "      <td>-35</td>\n",
       "      <td>10/1/2012</td>\n",
       "      <td>503</td>\n",
       "      <td>71</td>\n",
       "      <td>Major Market</td>\n",
       "      <td>Central</td>\n",
       "      <td>46</td>\n",
       "      <td>Leaves</td>\n",
       "      <td>...</td>\n",
       "      <td>Lemon</td>\n",
       "      <td>-5</td>\n",
       "      <td>122</td>\n",
       "      <td>Colorado</td>\n",
       "      <td>30</td>\n",
       "      <td>60</td>\n",
       "      <td>30</td>\n",
       "      <td>90</td>\n",
       "      <td>76</td>\n",
       "      <td>Decaf</td>\n",
       "    </tr>\n",
       "    <tr>\n",
       "      <th>1</th>\n",
       "      <td>970</td>\n",
       "      <td>52</td>\n",
       "      <td>-24</td>\n",
       "      <td>10/1/2012</td>\n",
       "      <td>405</td>\n",
       "      <td>71</td>\n",
       "      <td>Major Market</td>\n",
       "      <td>Central</td>\n",
       "      <td>17</td>\n",
       "      <td>Leaves</td>\n",
       "      <td>...</td>\n",
       "      <td>Mint</td>\n",
       "      <td>26</td>\n",
       "      <td>123</td>\n",
       "      <td>Colorado</td>\n",
       "      <td>30</td>\n",
       "      <td>60</td>\n",
       "      <td>50</td>\n",
       "      <td>90</td>\n",
       "      <td>45</td>\n",
       "      <td>Decaf</td>\n",
       "    </tr>\n",
       "    <tr>\n",
       "      <th>2</th>\n",
       "      <td>409</td>\n",
       "      <td>43</td>\n",
       "      <td>-22</td>\n",
       "      <td>10/2/2012</td>\n",
       "      <td>419</td>\n",
       "      <td>64</td>\n",
       "      <td>Major Market</td>\n",
       "      <td>South</td>\n",
       "      <td>13</td>\n",
       "      <td>Leaves</td>\n",
       "      <td>...</td>\n",
       "      <td>Lemon</td>\n",
       "      <td>28</td>\n",
       "      <td>107</td>\n",
       "      <td>Texas</td>\n",
       "      <td>30</td>\n",
       "      <td>60</td>\n",
       "      <td>50</td>\n",
       "      <td>90</td>\n",
       "      <td>36</td>\n",
       "      <td>Decaf</td>\n",
       "    </tr>\n",
       "    <tr>\n",
       "      <th>3</th>\n",
       "      <td>850</td>\n",
       "      <td>38</td>\n",
       "      <td>-15</td>\n",
       "      <td>10/3/2012</td>\n",
       "      <td>871</td>\n",
       "      <td>56</td>\n",
       "      <td>Major Market</td>\n",
       "      <td>East</td>\n",
       "      <td>10</td>\n",
       "      <td>Leaves</td>\n",
       "      <td>...</td>\n",
       "      <td>Darjeeling</td>\n",
       "      <td>35</td>\n",
       "      <td>94</td>\n",
       "      <td>Florida</td>\n",
       "      <td>40</td>\n",
       "      <td>60</td>\n",
       "      <td>50</td>\n",
       "      <td>100</td>\n",
       "      <td>21</td>\n",
       "      <td>Regular</td>\n",
       "    </tr>\n",
       "    <tr>\n",
       "      <th>4</th>\n",
       "      <td>562</td>\n",
       "      <td>72</td>\n",
       "      <td>6</td>\n",
       "      <td>10/4/2012</td>\n",
       "      <td>650</td>\n",
       "      <td>110</td>\n",
       "      <td>Major Market</td>\n",
       "      <td>West</td>\n",
       "      <td>23</td>\n",
       "      <td>Leaves</td>\n",
       "      <td>...</td>\n",
       "      <td>Green Tea</td>\n",
       "      <td>56</td>\n",
       "      <td>182</td>\n",
       "      <td>California</td>\n",
       "      <td>20</td>\n",
       "      <td>60</td>\n",
       "      <td>50</td>\n",
       "      <td>80</td>\n",
       "      <td>54</td>\n",
       "      <td>Regular</td>\n",
       "    </tr>\n",
       "    <tr>\n",
       "      <th>...</th>\n",
       "      <td>...</td>\n",
       "      <td>...</td>\n",
       "      <td>...</td>\n",
       "      <td>...</td>\n",
       "      <td>...</td>\n",
       "      <td>...</td>\n",
       "      <td>...</td>\n",
       "      <td>...</td>\n",
       "      <td>...</td>\n",
       "      <td>...</td>\n",
       "      <td>...</td>\n",
       "      <td>...</td>\n",
       "      <td>...</td>\n",
       "      <td>...</td>\n",
       "      <td>...</td>\n",
       "      <td>...</td>\n",
       "      <td>...</td>\n",
       "      <td>...</td>\n",
       "      <td>...</td>\n",
       "      <td>...</td>\n",
       "      <td>...</td>\n",
       "    </tr>\n",
       "    <tr>\n",
       "      <th>1057</th>\n",
       "      <td>775</td>\n",
       "      <td>250</td>\n",
       "      <td>133</td>\n",
       "      <td>8/23/2015</td>\n",
       "      <td>1820</td>\n",
       "      <td>251</td>\n",
       "      <td>Small Market</td>\n",
       "      <td>West</td>\n",
       "      <td>70</td>\n",
       "      <td>Leaves</td>\n",
       "      <td>...</td>\n",
       "      <td>Earl Grey</td>\n",
       "      <td>233</td>\n",
       "      <td>534</td>\n",
       "      <td>Nevada</td>\n",
       "      <td>180</td>\n",
       "      <td>180</td>\n",
       "      <td>100</td>\n",
       "      <td>360</td>\n",
       "      <td>94</td>\n",
       "      <td>Regular</td>\n",
       "    </tr>\n",
       "    <tr>\n",
       "      <th>1058</th>\n",
       "      <td>971</td>\n",
       "      <td>88</td>\n",
       "      <td>48</td>\n",
       "      <td>8/24/2015</td>\n",
       "      <td>817</td>\n",
       "      <td>133</td>\n",
       "      <td>Small Market</td>\n",
       "      <td>West</td>\n",
       "      <td>29</td>\n",
       "      <td>Leaves</td>\n",
       "      <td>...</td>\n",
       "      <td>Earl Grey</td>\n",
       "      <td>108</td>\n",
       "      <td>236</td>\n",
       "      <td>Oregon</td>\n",
       "      <td>60</td>\n",
       "      <td>100</td>\n",
       "      <td>60</td>\n",
       "      <td>160</td>\n",
       "      <td>60</td>\n",
       "      <td>Regular</td>\n",
       "    </tr>\n",
       "    <tr>\n",
       "      <th>1059</th>\n",
       "      <td>775</td>\n",
       "      <td>294</td>\n",
       "      <td>-285</td>\n",
       "      <td>8/25/2015</td>\n",
       "      <td>8252</td>\n",
       "      <td>-294</td>\n",
       "      <td>Small Market</td>\n",
       "      <td>West</td>\n",
       "      <td>111</td>\n",
       "      <td>Leaves</td>\n",
       "      <td>...</td>\n",
       "      <td>Green Tea</td>\n",
       "      <td>-605</td>\n",
       "      <td>33</td>\n",
       "      <td>Nevada</td>\n",
       "      <td>210</td>\n",
       "      <td>-210</td>\n",
       "      <td>-320</td>\n",
       "      <td>0</td>\n",
       "      <td>145</td>\n",
       "      <td>Regular</td>\n",
       "    </tr>\n",
       "    <tr>\n",
       "      <th>1060</th>\n",
       "      <td>503</td>\n",
       "      <td>134</td>\n",
       "      <td>80</td>\n",
       "      <td>8/26/2015</td>\n",
       "      <td>690</td>\n",
       "      <td>186</td>\n",
       "      <td>Small Market</td>\n",
       "      <td>West</td>\n",
       "      <td>41</td>\n",
       "      <td>Leaves</td>\n",
       "      <td>...</td>\n",
       "      <td>Green Tea</td>\n",
       "      <td>180</td>\n",
       "      <td>341</td>\n",
       "      <td>Oregon</td>\n",
       "      <td>90</td>\n",
       "      <td>140</td>\n",
       "      <td>100</td>\n",
       "      <td>230</td>\n",
       "      <td>65</td>\n",
       "      <td>Regular</td>\n",
       "    </tr>\n",
       "    <tr>\n",
       "      <th>1061</th>\n",
       "      <td>435</td>\n",
       "      <td>20</td>\n",
       "      <td>-22</td>\n",
       "      <td>8/27/2015</td>\n",
       "      <td>218</td>\n",
       "      <td>25</td>\n",
       "      <td>Small Market</td>\n",
       "      <td>West</td>\n",
       "      <td>7</td>\n",
       "      <td>Leaves</td>\n",
       "      <td>...</td>\n",
       "      <td>Green Tea</td>\n",
       "      <td>-22</td>\n",
       "      <td>48</td>\n",
       "      <td>Utah</td>\n",
       "      <td>10</td>\n",
       "      <td>20</td>\n",
       "      <td>0</td>\n",
       "      <td>30</td>\n",
       "      <td>40</td>\n",
       "      <td>Regular</td>\n",
       "    </tr>\n",
       "  </tbody>\n",
       "</table>\n",
       "<p>1062 rows × 21 columns</p>\n",
       "</div>"
      ],
      "text/plain": [
       "      Area Code  Cogs  DifferenceBetweenActualandTargetProfit       Date  \\\n",
       "0           303    51                                     -35  10/1/2012   \n",
       "1           970    52                                     -24  10/1/2012   \n",
       "2           409    43                                     -22  10/2/2012   \n",
       "3           850    38                                     -15  10/3/2012   \n",
       "4           562    72                                       6  10/4/2012   \n",
       "...         ...   ...                                     ...        ...   \n",
       "1057        775   250                                     133  8/23/2015   \n",
       "1058        971    88                                      48  8/24/2015   \n",
       "1059        775   294                                    -285  8/25/2015   \n",
       "1060        503   134                                      80  8/26/2015   \n",
       "1061        435    20                                     -22  8/27/2015   \n",
       "\n",
       "      Inventory Margin  Margin   Market_size   Market  Marketing Product_line  \\\n",
       "0                  503      71  Major Market  Central         46       Leaves   \n",
       "1                  405      71  Major Market  Central         17       Leaves   \n",
       "2                  419      64  Major Market    South         13       Leaves   \n",
       "3                  871      56  Major Market     East         10       Leaves   \n",
       "4                  650     110  Major Market     West         23       Leaves   \n",
       "...                ...     ...           ...      ...        ...          ...   \n",
       "1057              1820     251  Small Market     West         70       Leaves   \n",
       "1058               817     133  Small Market     West         29       Leaves   \n",
       "1059              8252    -294  Small Market     West        111       Leaves   \n",
       "1060               690     186  Small Market     West         41       Leaves   \n",
       "1061               218      25  Small Market     West          7       Leaves   \n",
       "\n",
       "      ...     Product Profit  Sales       State Target_cogs  Target_margin  \\\n",
       "0     ...       Lemon     -5    122    Colorado          30             60   \n",
       "1     ...        Mint     26    123    Colorado          30             60   \n",
       "2     ...       Lemon     28    107       Texas          30             60   \n",
       "3     ...  Darjeeling     35     94     Florida          40             60   \n",
       "4     ...   Green Tea     56    182  California          20             60   \n",
       "...   ...         ...    ...    ...         ...         ...            ...   \n",
       "1057  ...   Earl Grey    233    534      Nevada         180            180   \n",
       "1058  ...   Earl Grey    108    236      Oregon          60            100   \n",
       "1059  ...   Green Tea   -605     33      Nevada         210           -210   \n",
       "1060  ...   Green Tea    180    341      Oregon          90            140   \n",
       "1061  ...   Green Tea    -22     48        Utah          10             20   \n",
       "\n",
       "      Target_profit  Target_sales   Total_expenses     Type  \n",
       "0                30             90              76    Decaf  \n",
       "1                50             90              45    Decaf  \n",
       "2                50             90              36    Decaf  \n",
       "3                50            100              21  Regular  \n",
       "4                50             80              54  Regular  \n",
       "...             ...            ...             ...      ...  \n",
       "1057            100            360              94  Regular  \n",
       "1058             60            160              60  Regular  \n",
       "1059           -320              0             145  Regular  \n",
       "1060            100            230              65  Regular  \n",
       "1061              0             30              40  Regular  \n",
       "\n",
       "[1062 rows x 21 columns]"
      ]
     },
     "execution_count": 42,
     "metadata": {},
     "output_type": "execute_result"
    }
   ],
   "source": [
    "dataset"
   ]
  },
  {
   "cell_type": "code",
   "execution_count": 44,
   "id": "66869fa0",
   "metadata": {},
   "outputs": [],
   "source": [
    "data=dataset.drop([\"Area Code\",\"Cogs\",\"DifferenceBetweenActualandTargetProfit\",\"Date\",\"Inventory Margin\",\"Margin\",\"Market_size\",\"Market\",\"Marketing\",\"Product_line\",\"State\",\"Target_cogs\",\"Target_margin\",\"Target_profit\",\"Total_expenses\",\"Type\"],axis=1)"
   ]
  },
  {
   "cell_type": "code",
   "execution_count": 45,
   "id": "b52186f1",
   "metadata": {
    "scrolled": true
   },
   "outputs": [
    {
     "data": {
      "text/html": [
       "<div>\n",
       "<style scoped>\n",
       "    .dataframe tbody tr th:only-of-type {\n",
       "        vertical-align: middle;\n",
       "    }\n",
       "\n",
       "    .dataframe tbody tr th {\n",
       "        vertical-align: top;\n",
       "    }\n",
       "\n",
       "    .dataframe thead th {\n",
       "        text-align: right;\n",
       "    }\n",
       "</style>\n",
       "<table border=\"1\" class=\"dataframe\">\n",
       "  <thead>\n",
       "    <tr style=\"text-align: right;\">\n",
       "      <th></th>\n",
       "      <th>Product_type</th>\n",
       "      <th>Product</th>\n",
       "      <th>Profit</th>\n",
       "      <th>Sales</th>\n",
       "      <th>Target_sales</th>\n",
       "    </tr>\n",
       "  </thead>\n",
       "  <tbody>\n",
       "    <tr>\n",
       "      <th>0</th>\n",
       "      <td>Herbal Tea</td>\n",
       "      <td>Lemon</td>\n",
       "      <td>-5</td>\n",
       "      <td>122</td>\n",
       "      <td>90</td>\n",
       "    </tr>\n",
       "    <tr>\n",
       "      <th>1</th>\n",
       "      <td>Herbal Tea</td>\n",
       "      <td>Mint</td>\n",
       "      <td>26</td>\n",
       "      <td>123</td>\n",
       "      <td>90</td>\n",
       "    </tr>\n",
       "    <tr>\n",
       "      <th>2</th>\n",
       "      <td>Herbal Tea</td>\n",
       "      <td>Lemon</td>\n",
       "      <td>28</td>\n",
       "      <td>107</td>\n",
       "      <td>90</td>\n",
       "    </tr>\n",
       "    <tr>\n",
       "      <th>3</th>\n",
       "      <td>Tea</td>\n",
       "      <td>Darjeeling</td>\n",
       "      <td>35</td>\n",
       "      <td>94</td>\n",
       "      <td>100</td>\n",
       "    </tr>\n",
       "    <tr>\n",
       "      <th>4</th>\n",
       "      <td>Tea</td>\n",
       "      <td>Green Tea</td>\n",
       "      <td>56</td>\n",
       "      <td>182</td>\n",
       "      <td>80</td>\n",
       "    </tr>\n",
       "    <tr>\n",
       "      <th>...</th>\n",
       "      <td>...</td>\n",
       "      <td>...</td>\n",
       "      <td>...</td>\n",
       "      <td>...</td>\n",
       "      <td>...</td>\n",
       "    </tr>\n",
       "    <tr>\n",
       "      <th>1057</th>\n",
       "      <td>Tea</td>\n",
       "      <td>Earl Grey</td>\n",
       "      <td>233</td>\n",
       "      <td>534</td>\n",
       "      <td>360</td>\n",
       "    </tr>\n",
       "    <tr>\n",
       "      <th>1058</th>\n",
       "      <td>Tea</td>\n",
       "      <td>Earl Grey</td>\n",
       "      <td>108</td>\n",
       "      <td>236</td>\n",
       "      <td>160</td>\n",
       "    </tr>\n",
       "    <tr>\n",
       "      <th>1059</th>\n",
       "      <td>Tea</td>\n",
       "      <td>Green Tea</td>\n",
       "      <td>-605</td>\n",
       "      <td>33</td>\n",
       "      <td>0</td>\n",
       "    </tr>\n",
       "    <tr>\n",
       "      <th>1060</th>\n",
       "      <td>Tea</td>\n",
       "      <td>Green Tea</td>\n",
       "      <td>180</td>\n",
       "      <td>341</td>\n",
       "      <td>230</td>\n",
       "    </tr>\n",
       "    <tr>\n",
       "      <th>1061</th>\n",
       "      <td>Tea</td>\n",
       "      <td>Green Tea</td>\n",
       "      <td>-22</td>\n",
       "      <td>48</td>\n",
       "      <td>30</td>\n",
       "    </tr>\n",
       "  </tbody>\n",
       "</table>\n",
       "<p>1062 rows × 5 columns</p>\n",
       "</div>"
      ],
      "text/plain": [
       "     Product_type     Product  Profit  Sales  Target_sales \n",
       "0      Herbal Tea       Lemon      -5    122             90\n",
       "1      Herbal Tea        Mint      26    123             90\n",
       "2      Herbal Tea       Lemon      28    107             90\n",
       "3             Tea  Darjeeling      35     94            100\n",
       "4             Tea   Green Tea      56    182             80\n",
       "...           ...         ...     ...    ...            ...\n",
       "1057          Tea   Earl Grey     233    534            360\n",
       "1058          Tea   Earl Grey     108    236            160\n",
       "1059          Tea   Green Tea    -605     33              0\n",
       "1060          Tea   Green Tea     180    341            230\n",
       "1061          Tea   Green Tea     -22     48             30\n",
       "\n",
       "[1062 rows x 5 columns]"
      ]
     },
     "execution_count": 45,
     "metadata": {},
     "output_type": "execute_result"
    }
   ],
   "source": [
    "data"
   ]
  },
  {
   "cell_type": "code",
   "execution_count": 47,
   "id": "cd2f8802",
   "metadata": {},
   "outputs": [],
   "source": [
    "new=data.drop([\"Product_type\",\"Product\"],axis=1)"
   ]
  },
  {
   "cell_type": "code",
   "execution_count": 48,
   "id": "5d28348a",
   "metadata": {},
   "outputs": [
    {
     "data": {
      "text/html": [
       "<div>\n",
       "<style scoped>\n",
       "    .dataframe tbody tr th:only-of-type {\n",
       "        vertical-align: middle;\n",
       "    }\n",
       "\n",
       "    .dataframe tbody tr th {\n",
       "        vertical-align: top;\n",
       "    }\n",
       "\n",
       "    .dataframe thead th {\n",
       "        text-align: right;\n",
       "    }\n",
       "</style>\n",
       "<table border=\"1\" class=\"dataframe\">\n",
       "  <thead>\n",
       "    <tr style=\"text-align: right;\">\n",
       "      <th></th>\n",
       "      <th>Profit</th>\n",
       "      <th>Sales</th>\n",
       "      <th>Target_sales</th>\n",
       "    </tr>\n",
       "  </thead>\n",
       "  <tbody>\n",
       "    <tr>\n",
       "      <th>0</th>\n",
       "      <td>-5</td>\n",
       "      <td>122</td>\n",
       "      <td>90</td>\n",
       "    </tr>\n",
       "    <tr>\n",
       "      <th>1</th>\n",
       "      <td>26</td>\n",
       "      <td>123</td>\n",
       "      <td>90</td>\n",
       "    </tr>\n",
       "    <tr>\n",
       "      <th>2</th>\n",
       "      <td>28</td>\n",
       "      <td>107</td>\n",
       "      <td>90</td>\n",
       "    </tr>\n",
       "    <tr>\n",
       "      <th>3</th>\n",
       "      <td>35</td>\n",
       "      <td>94</td>\n",
       "      <td>100</td>\n",
       "    </tr>\n",
       "    <tr>\n",
       "      <th>4</th>\n",
       "      <td>56</td>\n",
       "      <td>182</td>\n",
       "      <td>80</td>\n",
       "    </tr>\n",
       "    <tr>\n",
       "      <th>...</th>\n",
       "      <td>...</td>\n",
       "      <td>...</td>\n",
       "      <td>...</td>\n",
       "    </tr>\n",
       "    <tr>\n",
       "      <th>1057</th>\n",
       "      <td>233</td>\n",
       "      <td>534</td>\n",
       "      <td>360</td>\n",
       "    </tr>\n",
       "    <tr>\n",
       "      <th>1058</th>\n",
       "      <td>108</td>\n",
       "      <td>236</td>\n",
       "      <td>160</td>\n",
       "    </tr>\n",
       "    <tr>\n",
       "      <th>1059</th>\n",
       "      <td>-605</td>\n",
       "      <td>33</td>\n",
       "      <td>0</td>\n",
       "    </tr>\n",
       "    <tr>\n",
       "      <th>1060</th>\n",
       "      <td>180</td>\n",
       "      <td>341</td>\n",
       "      <td>230</td>\n",
       "    </tr>\n",
       "    <tr>\n",
       "      <th>1061</th>\n",
       "      <td>-22</td>\n",
       "      <td>48</td>\n",
       "      <td>30</td>\n",
       "    </tr>\n",
       "  </tbody>\n",
       "</table>\n",
       "<p>1062 rows × 3 columns</p>\n",
       "</div>"
      ],
      "text/plain": [
       "      Profit  Sales  Target_sales \n",
       "0         -5    122             90\n",
       "1         26    123             90\n",
       "2         28    107             90\n",
       "3         35     94            100\n",
       "4         56    182             80\n",
       "...      ...    ...            ...\n",
       "1057     233    534            360\n",
       "1058     108    236            160\n",
       "1059    -605     33              0\n",
       "1060     180    341            230\n",
       "1061     -22     48             30\n",
       "\n",
       "[1062 rows x 3 columns]"
      ]
     },
     "execution_count": 48,
     "metadata": {},
     "output_type": "execute_result"
    }
   ],
   "source": [
    "new"
   ]
  },
  {
   "cell_type": "code",
   "execution_count": 52,
   "id": "aeaef0d0",
   "metadata": {},
   "outputs": [],
   "source": [
    "x=new.iloc[:,0].values.reshape(-1,1)\n",
    "y=new.iloc[:,1].values.reshape(-1,1)"
   ]
  },
  {
   "cell_type": "code",
   "execution_count": 53,
   "id": "9d9f826d",
   "metadata": {},
   "outputs": [
    {
     "data": {
      "text/plain": [
       "array([[  -5],\n",
       "       [  26],\n",
       "       [  28],\n",
       "       ...,\n",
       "       [-605],\n",
       "       [ 180],\n",
       "       [ -22]], dtype=int64)"
      ]
     },
     "execution_count": 53,
     "metadata": {},
     "output_type": "execute_result"
    }
   ],
   "source": [
    "x"
   ]
  },
  {
   "cell_type": "code",
   "execution_count": 54,
   "id": "1b8551d4",
   "metadata": {},
   "outputs": [
    {
     "data": {
      "text/plain": [
       "array([[122],\n",
       "       [123],\n",
       "       [107],\n",
       "       ...,\n",
       "       [ 33],\n",
       "       [341],\n",
       "       [ 48]], dtype=int64)"
      ]
     },
     "execution_count": 54,
     "metadata": {},
     "output_type": "execute_result"
    }
   ],
   "source": [
    "y"
   ]
  },
  {
   "cell_type": "code",
   "execution_count": 55,
   "id": "275728ef",
   "metadata": {},
   "outputs": [],
   "source": [
    "from sklearn.model_selection import train_test_split as t"
   ]
  },
  {
   "cell_type": "code",
   "execution_count": 56,
   "id": "c4d57cb5",
   "metadata": {},
   "outputs": [],
   "source": [
    "x_train,x_test,y_train,y_test=t(x,y,test_size=0.2,random_state=0)"
   ]
  },
  {
   "cell_type": "code",
   "execution_count": 57,
   "id": "53ff8d3f",
   "metadata": {},
   "outputs": [
    {
     "data": {
      "text/plain": [
       "(849, 1)"
      ]
     },
     "execution_count": 57,
     "metadata": {},
     "output_type": "execute_result"
    }
   ],
   "source": [
    "x_train.shape"
   ]
  },
  {
   "cell_type": "code",
   "execution_count": 58,
   "id": "d611ec50",
   "metadata": {},
   "outputs": [
    {
     "data": {
      "text/plain": [
       "(213, 1)"
      ]
     },
     "execution_count": 58,
     "metadata": {},
     "output_type": "execute_result"
    }
   ],
   "source": [
    "x_test.shape"
   ]
  },
  {
   "cell_type": "code",
   "execution_count": 59,
   "id": "a4962c50",
   "metadata": {},
   "outputs": [
    {
     "data": {
      "text/plain": [
       "(849, 1)"
      ]
     },
     "execution_count": 59,
     "metadata": {},
     "output_type": "execute_result"
    }
   ],
   "source": [
    "y_train.shape"
   ]
  },
  {
   "cell_type": "code",
   "execution_count": 60,
   "id": "ff8171ab",
   "metadata": {},
   "outputs": [
    {
     "data": {
      "text/plain": [
       "(213, 1)"
      ]
     },
     "execution_count": 60,
     "metadata": {},
     "output_type": "execute_result"
    }
   ],
   "source": [
    "y_test.shape"
   ]
  },
  {
   "cell_type": "code",
   "execution_count": 61,
   "id": "959ce69b",
   "metadata": {},
   "outputs": [],
   "source": [
    "from sklearn.linear_model import LinearRegression"
   ]
  },
  {
   "cell_type": "code",
   "execution_count": 62,
   "id": "8bc88c5a",
   "metadata": {},
   "outputs": [],
   "source": [
    "lm=LinearRegression()"
   ]
  },
  {
   "cell_type": "code",
   "execution_count": 63,
   "id": "596f0a9a",
   "metadata": {},
   "outputs": [
    {
     "data": {
      "text/html": [
       "<style>#sk-container-id-2 {color: black;}#sk-container-id-2 pre{padding: 0;}#sk-container-id-2 div.sk-toggleable {background-color: white;}#sk-container-id-2 label.sk-toggleable__label {cursor: pointer;display: block;width: 100%;margin-bottom: 0;padding: 0.3em;box-sizing: border-box;text-align: center;}#sk-container-id-2 label.sk-toggleable__label-arrow:before {content: \"▸\";float: left;margin-right: 0.25em;color: #696969;}#sk-container-id-2 label.sk-toggleable__label-arrow:hover:before {color: black;}#sk-container-id-2 div.sk-estimator:hover label.sk-toggleable__label-arrow:before {color: black;}#sk-container-id-2 div.sk-toggleable__content {max-height: 0;max-width: 0;overflow: hidden;text-align: left;background-color: #f0f8ff;}#sk-container-id-2 div.sk-toggleable__content pre {margin: 0.2em;color: black;border-radius: 0.25em;background-color: #f0f8ff;}#sk-container-id-2 input.sk-toggleable__control:checked~div.sk-toggleable__content {max-height: 200px;max-width: 100%;overflow: auto;}#sk-container-id-2 input.sk-toggleable__control:checked~label.sk-toggleable__label-arrow:before {content: \"▾\";}#sk-container-id-2 div.sk-estimator input.sk-toggleable__control:checked~label.sk-toggleable__label {background-color: #d4ebff;}#sk-container-id-2 div.sk-label input.sk-toggleable__control:checked~label.sk-toggleable__label {background-color: #d4ebff;}#sk-container-id-2 input.sk-hidden--visually {border: 0;clip: rect(1px 1px 1px 1px);clip: rect(1px, 1px, 1px, 1px);height: 1px;margin: -1px;overflow: hidden;padding: 0;position: absolute;width: 1px;}#sk-container-id-2 div.sk-estimator {font-family: monospace;background-color: #f0f8ff;border: 1px dotted black;border-radius: 0.25em;box-sizing: border-box;margin-bottom: 0.5em;}#sk-container-id-2 div.sk-estimator:hover {background-color: #d4ebff;}#sk-container-id-2 div.sk-parallel-item::after {content: \"\";width: 100%;border-bottom: 1px solid gray;flex-grow: 1;}#sk-container-id-2 div.sk-label:hover label.sk-toggleable__label {background-color: #d4ebff;}#sk-container-id-2 div.sk-serial::before {content: \"\";position: absolute;border-left: 1px solid gray;box-sizing: border-box;top: 0;bottom: 0;left: 50%;z-index: 0;}#sk-container-id-2 div.sk-serial {display: flex;flex-direction: column;align-items: center;background-color: white;padding-right: 0.2em;padding-left: 0.2em;position: relative;}#sk-container-id-2 div.sk-item {position: relative;z-index: 1;}#sk-container-id-2 div.sk-parallel {display: flex;align-items: stretch;justify-content: center;background-color: white;position: relative;}#sk-container-id-2 div.sk-item::before, #sk-container-id-2 div.sk-parallel-item::before {content: \"\";position: absolute;border-left: 1px solid gray;box-sizing: border-box;top: 0;bottom: 0;left: 50%;z-index: -1;}#sk-container-id-2 div.sk-parallel-item {display: flex;flex-direction: column;z-index: 1;position: relative;background-color: white;}#sk-container-id-2 div.sk-parallel-item:first-child::after {align-self: flex-end;width: 50%;}#sk-container-id-2 div.sk-parallel-item:last-child::after {align-self: flex-start;width: 50%;}#sk-container-id-2 div.sk-parallel-item:only-child::after {width: 0;}#sk-container-id-2 div.sk-dashed-wrapped {border: 1px dashed gray;margin: 0 0.4em 0.5em 0.4em;box-sizing: border-box;padding-bottom: 0.4em;background-color: white;}#sk-container-id-2 div.sk-label label {font-family: monospace;font-weight: bold;display: inline-block;line-height: 1.2em;}#sk-container-id-2 div.sk-label-container {text-align: center;}#sk-container-id-2 div.sk-container {/* jupyter's `normalize.less` sets `[hidden] { display: none; }` but bootstrap.min.css set `[hidden] { display: none !important; }` so we also need the `!important` here to be able to override the default hidden behavior on the sphinx rendered scikit-learn.org. See: https://github.com/scikit-learn/scikit-learn/issues/21755 */display: inline-block !important;position: relative;}#sk-container-id-2 div.sk-text-repr-fallback {display: none;}</style><div id=\"sk-container-id-2\" class=\"sk-top-container\"><div class=\"sk-text-repr-fallback\"><pre>LinearRegression()</pre><b>In a Jupyter environment, please rerun this cell to show the HTML representation or trust the notebook. <br />On GitHub, the HTML representation is unable to render, please try loading this page with nbviewer.org.</b></div><div class=\"sk-container\" hidden><div class=\"sk-item\"><div class=\"sk-estimator sk-toggleable\"><input class=\"sk-toggleable__control sk-hidden--visually\" id=\"sk-estimator-id-2\" type=\"checkbox\" checked><label for=\"sk-estimator-id-2\" class=\"sk-toggleable__label sk-toggleable__label-arrow\">LinearRegression</label><div class=\"sk-toggleable__content\"><pre>LinearRegression()</pre></div></div></div></div></div>"
      ],
      "text/plain": [
       "LinearRegression()"
      ]
     },
     "execution_count": 63,
     "metadata": {},
     "output_type": "execute_result"
    }
   ],
   "source": [
    "lm.fit(x_train,y_train)"
   ]
  },
  {
   "cell_type": "code",
   "execution_count": 64,
   "id": "d2ea4241",
   "metadata": {},
   "outputs": [],
   "source": [
    "pre=lm.predict(x_test)"
   ]
  },
  {
   "cell_type": "code",
   "execution_count": 65,
   "id": "71a33f07",
   "metadata": {},
   "outputs": [
    {
     "data": {
      "text/plain": [
       "array([[ 181.53812987],\n",
       "       [ 177.90972855],\n",
       "       [ 225.07894571],\n",
       "       [ 133.15944561],\n",
       "       [ 106.55116926],\n",
       "       [ 246.84935363],\n",
       "       [ 321.83631423],\n",
       "       [ 129.53104429],\n",
       "       [ 165.81505749],\n",
       "       [ 358.12032743],\n",
       "       [ 272.24816286],\n",
       "       [ 180.32866276],\n",
       "       [ 170.65292591],\n",
       "       [ 102.92276794],\n",
       "       [ 104.13223505],\n",
       "       [ 152.51091931],\n",
       "       [ 146.46358378],\n",
       "       [ 257.73455758],\n",
       "       [  88.40916267],\n",
       "       [ 278.2954984 ],\n",
       "       [ 173.07186013],\n",
       "       [ 185.16653119],\n",
       "       [ 133.15944561],\n",
       "       [ 309.74164317],\n",
       "       [ 561.31080133],\n",
       "       [ 169.44345881],\n",
       "       [ 428.26941961],\n",
       "       [ 174.28132723],\n",
       "       [ 121.06477454],\n",
       "       [ 210.56534043],\n",
       "       [ 133.15944561],\n",
       "       [ 152.51091931],\n",
       "       [ 429.47888672],\n",
       "       [ 165.81505749],\n",
       "       [ 153.72038642],\n",
       "       [ 118.64584033],\n",
       "       [ 183.95706408],\n",
       "       [ 148.88251799],\n",
       "       [-126.8759823 ],\n",
       "       [ 148.88251799],\n",
       "       [ 152.51091931],\n",
       "       [ 175.49079434],\n",
       "       [ 699.19005148],\n",
       "       [ 209.35587332],\n",
       "       [ 388.35700509],\n",
       "       [ 133.15944561],\n",
       "       [ 228.70734703],\n",
       "       [ 279.5049655 ],\n",
       "       [ 332.72151819],\n",
       "       [ 157.34878774],\n",
       "       [ 115.01743901],\n",
       "       [ 216.61267596],\n",
       "       [ -71.2404954 ],\n",
       "       [ 248.05882073],\n",
       "       [ 163.39612327],\n",
       "       [ 110.17957058],\n",
       "       [ 130.7405114 ],\n",
       "       [ 246.84935363],\n",
       "       [ 142.83518246],\n",
       "       [ 183.95706408],\n",
       "       [ 491.16170915],\n",
       "       [ -24.07127824],\n",
       "       [ 169.44345881],\n",
       "       [ 151.30145221],\n",
       "       [ 388.35700509],\n",
       "       [ 171.86239302],\n",
       "       [ 335.1404524 ],\n",
       "       [  17.05060338],\n",
       "       [ 176.70026144],\n",
       "       [ 347.23512347],\n",
       "       [ 221.45054439],\n",
       "       [ 129.53104429],\n",
       "       [ 131.9499785 ],\n",
       "       [ 134.36891272],\n",
       "       [ 194.84226804],\n",
       "       [ 177.90972855],\n",
       "       [ 124.69317586],\n",
       "       [ 121.06477454],\n",
       "       [ 152.51091931],\n",
       "       [ -93.01090332],\n",
       "       [ 135.57837982],\n",
       "       [ 144.04464957],\n",
       "       [ 147.67305089],\n",
       "       [ 156.13932063],\n",
       "       [ 141.62571535],\n",
       "       [ 275.87656418],\n",
       "       [ 168.2339917 ],\n",
       "       [ 171.86239302],\n",
       "       [ 358.12032743],\n",
       "       [ 163.39612327],\n",
       "       [ 151.30145221],\n",
       "       [ 118.64584033],\n",
       "       [ 147.67305089],\n",
       "       [ 150.0919851 ],\n",
       "       [ 332.72151819],\n",
       "       [ 136.78784693],\n",
       "       [ 173.07186013],\n",
       "       [ 137.99731404],\n",
       "       [ 129.53104429],\n",
       "       [ 147.67305089],\n",
       "       [ 113.8079719 ],\n",
       "       [ 151.30145221],\n",
       "       [ 153.72038642],\n",
       "       [ 112.5985048 ],\n",
       "       [ 181.53812987],\n",
       "       [ 173.07186013],\n",
       "       [ 278.2954984 ],\n",
       "       [ 160.97718906],\n",
       "       [ 503.25638022],\n",
       "       [ 112.5985048 ],\n",
       "       [ 336.34991951],\n",
       "       [ 144.04464957],\n",
       "       [ 181.53812987],\n",
       "       [ 154.92985353],\n",
       "       [ 140.41624825],\n",
       "       [ 153.72038642],\n",
       "       [ 355.70139322],\n",
       "       [ 235.96414967],\n",
       "       [ 354.49192611],\n",
       "       [ 140.41624825],\n",
       "       [ 131.9499785 ],\n",
       "       [ 347.23512347],\n",
       "       [ 264.99136022],\n",
       "       [ 115.01743901],\n",
       "       [ 243.22095231],\n",
       "       [ 136.78784693],\n",
       "       [ 139.20678114],\n",
       "       [ 283.13336682],\n",
       "       [ 225.07894571],\n",
       "       [ 154.92985353],\n",
       "       [ 255.31562337],\n",
       "       [ 131.9499785 ],\n",
       "       [ 151.30145221],\n",
       "       [ 137.99731404],\n",
       "       [ 217.82214307],\n",
       "       [ 198.47066936],\n",
       "       [ 135.57837982],\n",
       "       [ 164.60559038],\n",
       "       [ 204.5180049 ],\n",
       "       [ 151.30145221],\n",
       "       [ 124.69317586],\n",
       "       [ 174.28132723],\n",
       "       [ 225.07894571],\n",
       "       [-534.46639721],\n",
       "       [ 202.09907068],\n",
       "       [ 117.43637322],\n",
       "       [ 384.72860377],\n",
       "       [ 388.35700509],\n",
       "       [ 140.41624825],\n",
       "       [ 133.15944561],\n",
       "       [ 309.74164317],\n",
       "       [ 221.45054439],\n",
       "       [ 210.56534043],\n",
       "       [ 158.55825485],\n",
       "       [ 197.26120226],\n",
       "       [-614.29122625],\n",
       "       [ 128.32157718],\n",
       "       [ 147.67305089],\n",
       "       [ 179.11919566],\n",
       "       [ 140.41624825],\n",
       "       [ 111.38903769],\n",
       "       [ 206.93693911],\n",
       "       [ 133.15944561],\n",
       "       [ 273.45762997],\n",
       "       [ 505.67531443],\n",
       "       [ 378.68126824],\n",
       "       [ 133.15944561],\n",
       "       [ 168.2339917 ],\n",
       "       [ 131.9499785 ],\n",
       "       [ 389.5664722 ],\n",
       "       [ 174.28132723],\n",
       "       [ 221.45054439],\n",
       "       [ 151.30145221],\n",
       "       [ 505.67531443],\n",
       "       [ 243.22095231],\n",
       "       [  98.08489952],\n",
       "       [ 173.07186013],\n",
       "       [ 190.00439962],\n",
       "       [ 327.88364976],\n",
       "       [ 177.90972855],\n",
       "       [ 146.46358378],\n",
       "       [ 246.84935363],\n",
       "       [ 156.13932063],\n",
       "       [ 154.92985353],\n",
       "       [ 136.78784693],\n",
       "       [ 128.32157718],\n",
       "       [ 112.5985048 ],\n",
       "       [ 210.56534043],\n",
       "       [ 125.90264297],\n",
       "       [ 150.0919851 ],\n",
       "       [ 398.03274195],\n",
       "       [ 144.04464957],\n",
       "       [ 147.67305089],\n",
       "       [ 148.88251799],\n",
       "       [ 203.30853779],\n",
       "       [ 185.16653119],\n",
       "       [ 128.32157718],\n",
       "       [ 153.72038642],\n",
       "       [ 255.31562337],\n",
       "       [ 157.34878774],\n",
       "       [ 505.67531443],\n",
       "       [ -88.17303489],\n",
       "       [ 177.90972855],\n",
       "       [ 151.30145221],\n",
       "       [ 494.79011047],\n",
       "       [ 175.49079434],\n",
       "       [ 179.11919566],\n",
       "       [  11.00326785],\n",
       "       [ 157.34878774],\n",
       "       [ 119.85530744],\n",
       "       [ 160.97718906],\n",
       "       [ 110.17957058],\n",
       "       [ 196.05173515]])"
      ]
     },
     "execution_count": 65,
     "metadata": {},
     "output_type": "execute_result"
    }
   ],
   "source": [
    "pre"
   ]
  },
  {
   "cell_type": "code",
   "execution_count": 66,
   "id": "9807aefc",
   "metadata": {},
   "outputs": [],
   "source": [
    "comp=p.DataFrame(x_test,columns=['CGPA'])"
   ]
  },
  {
   "cell_type": "code",
   "execution_count": 67,
   "id": "938ea7d4",
   "metadata": {},
   "outputs": [],
   "source": [
    "comp[\"AVLDATA\"]=y_test"
   ]
  },
  {
   "cell_type": "code",
   "execution_count": 68,
   "id": "edd58b06",
   "metadata": {},
   "outputs": [],
   "source": [
    "comp[\"predictvalue\"]=pre"
   ]
  },
  {
   "cell_type": "code",
   "execution_count": 69,
   "id": "5840f8d2",
   "metadata": {},
   "outputs": [
    {
     "data": {
      "text/html": [
       "<div>\n",
       "<style scoped>\n",
       "    .dataframe tbody tr th:only-of-type {\n",
       "        vertical-align: middle;\n",
       "    }\n",
       "\n",
       "    .dataframe tbody tr th {\n",
       "        vertical-align: top;\n",
       "    }\n",
       "\n",
       "    .dataframe thead th {\n",
       "        text-align: right;\n",
       "    }\n",
       "</style>\n",
       "<table border=\"1\" class=\"dataframe\">\n",
       "  <thead>\n",
       "    <tr style=\"text-align: right;\">\n",
       "      <th></th>\n",
       "      <th>CGPA</th>\n",
       "      <th>AVLDATA</th>\n",
       "      <th>predictvalue</th>\n",
       "    </tr>\n",
       "  </thead>\n",
       "  <tbody>\n",
       "    <tr>\n",
       "      <th>0</th>\n",
       "      <td>53</td>\n",
       "      <td>135</td>\n",
       "      <td>181.538130</td>\n",
       "    </tr>\n",
       "    <tr>\n",
       "      <th>1</th>\n",
       "      <td>50</td>\n",
       "      <td>189</td>\n",
       "      <td>177.909729</td>\n",
       "    </tr>\n",
       "    <tr>\n",
       "      <th>2</th>\n",
       "      <td>89</td>\n",
       "      <td>215</td>\n",
       "      <td>225.078946</td>\n",
       "    </tr>\n",
       "    <tr>\n",
       "      <th>3</th>\n",
       "      <td>13</td>\n",
       "      <td>87</td>\n",
       "      <td>133.159446</td>\n",
       "    </tr>\n",
       "    <tr>\n",
       "      <th>4</th>\n",
       "      <td>-9</td>\n",
       "      <td>122</td>\n",
       "      <td>106.551169</td>\n",
       "    </tr>\n",
       "    <tr>\n",
       "      <th>...</th>\n",
       "      <td>...</td>\n",
       "      <td>...</td>\n",
       "      <td>...</td>\n",
       "    </tr>\n",
       "    <tr>\n",
       "      <th>208</th>\n",
       "      <td>33</td>\n",
       "      <td>138</td>\n",
       "      <td>157.348788</td>\n",
       "    </tr>\n",
       "    <tr>\n",
       "      <th>209</th>\n",
       "      <td>2</td>\n",
       "      <td>88</td>\n",
       "      <td>119.855307</td>\n",
       "    </tr>\n",
       "    <tr>\n",
       "      <th>210</th>\n",
       "      <td>36</td>\n",
       "      <td>78</td>\n",
       "      <td>160.977189</td>\n",
       "    </tr>\n",
       "    <tr>\n",
       "      <th>211</th>\n",
       "      <td>-6</td>\n",
       "      <td>109</td>\n",
       "      <td>110.179571</td>\n",
       "    </tr>\n",
       "    <tr>\n",
       "      <th>212</th>\n",
       "      <td>65</td>\n",
       "      <td>205</td>\n",
       "      <td>196.051735</td>\n",
       "    </tr>\n",
       "  </tbody>\n",
       "</table>\n",
       "<p>213 rows × 3 columns</p>\n",
       "</div>"
      ],
      "text/plain": [
       "     CGPA  AVLDATA  predictvalue\n",
       "0      53      135    181.538130\n",
       "1      50      189    177.909729\n",
       "2      89      215    225.078946\n",
       "3      13       87    133.159446\n",
       "4      -9      122    106.551169\n",
       "..    ...      ...           ...\n",
       "208    33      138    157.348788\n",
       "209     2       88    119.855307\n",
       "210    36       78    160.977189\n",
       "211    -6      109    110.179571\n",
       "212    65      205    196.051735\n",
       "\n",
       "[213 rows x 3 columns]"
      ]
     },
     "execution_count": 69,
     "metadata": {},
     "output_type": "execute_result"
    }
   ],
   "source": [
    "comp"
   ]
  },
  {
   "cell_type": "code",
   "execution_count": 70,
   "id": "6d905809",
   "metadata": {},
   "outputs": [],
   "source": [
    "from sklearn.metrics import mean_squared_error,mean_absolute_error,r2_score"
   ]
  },
  {
   "cell_type": "code",
   "execution_count": 71,
   "id": "a648734d",
   "metadata": {},
   "outputs": [
    {
     "data": {
      "text/plain": [
       "10313.11064219885"
      ]
     },
     "execution_count": 71,
     "metadata": {},
     "output_type": "execute_result"
    }
   ],
   "source": [
    "mean_squared_error(y_test,pre)"
   ]
  },
  {
   "cell_type": "code",
   "execution_count": 72,
   "id": "c4baa994",
   "metadata": {},
   "outputs": [
    {
     "data": {
      "text/plain": [
       "67.71191735997388"
      ]
     },
     "execution_count": 72,
     "metadata": {},
     "output_type": "execute_result"
    }
   ],
   "source": [
    "mean_absolute_error(y_test,pre)"
   ]
  },
  {
   "cell_type": "code",
   "execution_count": 73,
   "id": "9ad61fbc",
   "metadata": {},
   "outputs": [
    {
     "data": {
      "text/plain": [
       "0.571592289660855"
      ]
     },
     "execution_count": 73,
     "metadata": {},
     "output_type": "execute_result"
    }
   ],
   "source": [
    "r2_score(y_test,pre)"
   ]
  },
  {
   "cell_type": "code",
   "execution_count": 74,
   "id": "3ac91a26",
   "metadata": {},
   "outputs": [],
   "source": [
    "import matplotlib.pyplot as m"
   ]
  },
  {
   "cell_type": "code",
   "execution_count": 75,
   "id": "deeb343f",
   "metadata": {},
   "outputs": [
    {
     "data": {
      "image/png": "[encoded data removed]",
      "text/plain": [
       "<Figure size 640x480 with 1 Axes>"
      ]
     },
     "metadata": {},
     "output_type": "display_data"
    }
   ],
   "source": [
    "m.scatter(x,y)\n",
    "m.xlabel('GRE SCORE')\n",
    "m.ylabel('CHANCE OF ADMIT')\n",
    "m.title('linear reg')\n",
    "m.show()"
   ]
  },
  {
   "cell_type": "code",
   "execution_count": 76,
   "id": "38dea80d",
   "metadata": {},
   "outputs": [
    {
     "name": "stdout",
     "output_type": "stream",
     "text": [
      "['Annotation', 'Arrow', 'Artist', 'AutoLocator', 'Axes', 'Button', 'Circle', 'Enum', 'ExitStack', 'Figure', 'FigureBase', 'FigureCanvasBase', 'FixedFormatter', 'FixedLocator', 'FormatStrFormatter', 'Formatter', 'FuncFormatter', 'GridSpec', 'IndexLocator', 'Line2D', 'LinearLocator', 'Locator', 'LogFormatter', 'LogFormatterExponent', 'LogFormatterMathtext', 'LogLocator', 'MaxNLocator', 'MouseButton', 'MultipleLocator', 'Normalize', 'NullFormatter', 'NullLocator', 'Number', 'PolarAxes', 'Polygon', 'Rectangle', 'ScalarFormatter', 'Slider', 'Subplot', 'SubplotSpec', 'Text', 'TickHelper', 'Widget', '_NON_PLOT_COMMANDS', '_REPL_DISPLAYHOOK', '_ReplDisplayHook', '__builtins__', '__cached__', '__doc__', '__file__', '__loader__', '__name__', '__package__', '__spec__', '_api', '_auto_draw_if_interactive', '_backend_mod', '_copy_docstring_and_deprecators', '_docstring', '_draw_all_if_interactive', '_get_backend_mod', '_get_required_interactive_framework', '_interactive_bk', '_log', '_pylab_helpers', '_warn_if_gui_out_of_main_thread', 'acorr', 'angle_spectrum', 'annotate', 'arrow', 'autoscale', 'autumn', 'axes', 'axhline', 'axhspan', 'axis', 'axline', 'axvline', 'axvspan', 'bar', 'bar_label', 'barbs', 'barh', 'bone', 'box', 'boxplot', 'broken_barh', 'cbook', 'cla', 'clabel', 'clf', 'clim', 'close', 'cm', 'cohere', 'color_sequences', 'colorbar', 'colormaps', 'connect', 'contour', 'contourf', 'cool', 'copper', 'csd', 'cycler', 'delaxes', 'disconnect', 'draw', 'draw_all', 'draw_if_interactive', 'errorbar', 'eventplot', 'figaspect', 'figimage', 'figlegend', 'fignum_exists', 'figtext', 'figure', 'fill', 'fill_between', 'fill_betweenx', 'findobj', 'flag', 'functools', 'gca', 'gcf', 'gci', 'get', 'get_backend', 'get_cmap', 'get_current_fig_manager', 'get_figlabels', 'get_fignums', 'get_plot_commands', 'get_scale_names', 'getp', 'ginput', 'gray', 'grid', 'hexbin', 'hist', 'hist2d', 'hlines', 'hot', 'hsv', 'importlib', 'imread', 'imsave', 'imshow', 'inferno', 'inspect', 'install_repl_displayhook', 'interactive', 'ioff', 'ion', 'isinteractive', 'jet', 'legend', 'locator_params', 'logging', 'loglog', 'magma', 'magnitude_spectrum', 'margins', 'matplotlib', 'matshow', 'minorticks_off', 'minorticks_on', 'mlab', 'new_figure_manager', 'nipy_spectral', 'np', 'pause', 'pcolor', 'pcolormesh', 'phase_spectrum', 'pie', 'pink', 'plasma', 'plot', 'plot_date', 'polar', 'prism', 'psd', 'quiver', 'quiverkey', 'rc', 'rcParams', 'rcParamsDefault', 'rcParamsOrig', 'rc_context', 'rcdefaults', 'rcsetup', 're', 'register_cmap', 'rgrids', 'savefig', 'sca', 'scatter', 'sci', 'semilogx', 'semilogy', 'set_cmap', 'set_loglevel', 'setp', 'show', 'specgram', 'spring', 'spy', 'stackplot', 'stairs', 'stem', 'step', 'streamplot', 'style', 'subplot', 'subplot2grid', 'subplot_mosaic', 'subplot_tool', 'subplots', 'subplots_adjust', 'summer', 'suptitle', 'switch_backend', 'sys', 'table', 'text', 'thetagrids', 'threading', 'tick_params', 'ticklabel_format', 'tight_layout', 'time', 'title', 'tricontour', 'tricontourf', 'tripcolor', 'triplot', 'twinx', 'twiny', 'uninstall_repl_displayhook', 'violinplot', 'viridis', 'vlines', 'waitforbuttonpress', 'winter', 'xcorr', 'xkcd', 'xlabel', 'xlim', 'xscale', 'xticks', 'ylabel', 'ylim', 'yscale', 'yticks']\n"
     ]
    }
   ],
   "source": [
    "print(dir(m))"
   ]
  },
  {
   "cell_type": "code",
   "execution_count": 77,
   "id": "4e26a1e8",
   "metadata": {},
   "outputs": [
    {
     "data": {
      "image/png": "[encoded data removed]",
      "text/plain": [
       "<Figure size 640x480 with 1 Axes>"
      ]
     },
     "metadata": {},
     "output_type": "display_data"
    }
   ],
   "source": [
    "m.scatter(x,y,color='red')\n",
    "m.plot(x_test,pre,color='green')\n",
    "m.xlabel('GRE SCORE')\n",
    "m.ylabel('CHANCE OF ADMIT')\n",
    "m.title('linear reg')\n",
    "m.show()"
   ]
  },
  {
   "cell_type": "code",
   "execution_count": null,
   "id": "5456ffe8",
   "metadata": {},
   "outputs": [],
   "source": []
  }
 ],
 "metadata": {
  "kernelspec": {
   "display_name": "Python 3 (ipykernel)",
   "language": "python",
   "name": "python3"
  },
  "language_info": {
   "codemirror_mode": {
    "name": "ipython",
    "version": 3
   },
   "file_extension": ".py",
   "mimetype": "text/x-python",
   "name": "python",
   "nbconvert_exporter": "python",
   "pygments_lexer": "ipython3",
   "version": "3.9.15"
  }
 },
 "nbformat": 4,
 "nbformat_minor": 5
}
